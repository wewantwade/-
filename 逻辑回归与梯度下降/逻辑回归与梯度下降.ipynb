{
 "cells": [
  {
   "cell_type": "markdown",
   "metadata": {},
   "source": [
    "建立一个逻辑回归模型来预测一个学生是否能够被大学录取。数据集是包含大量的历史申请人的考试信息和录取情况，大学会根据每个申请人的两次考试成绩决定是否录取。模型建立好后，能够根据新的申请人的考试信息预测是否录取。0表示未被录取，1表示被录取了\n"
   ]
  },
  {
   "cell_type": "markdown",
   "metadata": {},
   "source": [
    "这里再简要说一下线性回归和逻辑回归中的损失函数。\n",
    "首先在线性回归中，做的是预测输出，服从正态分布，所以损失函数是平方损失函数，也就是(预测值-均值)的平方再求和\n",
    "C=∑i=1n(yi−yiˆ)2\n",
    "而在逻辑回归中，做的是分类任务，服从伯努利分布，\n",
    "P(X=n)={p   n=1 \n",
    "      1−p, n=0\n",
    "所以逻辑回归的损失函数为\n",
    "J(θ)=−1m∑i=1m[yilog(hθ(xi))+(1−yi)log(1−hθ(xi))]\n",
    "\n",
    "当然，不论是线性回归还是逻辑回归，都会利用梯度下降的方法不断迭代，直到找到最合适的参数θi，使得损失函数降到最小，趋近收敛\n",
    "总体流程是这样的。\n",
    "\n",
    "\n"
   ]
  },
  {
   "cell_type": "code",
   "execution_count": 3,
   "metadata": {},
   "outputs": [],
   "source": [
    "#导入数据分心三大件\n",
    "import numpy as np\n",
    "import pandas as pd\n",
    "import matplotlib.pyplot as plt\n",
    "%matplotlib inline\n",
    "\n"
   ]
  },
  {
   "cell_type": "code",
   "execution_count": 4,
   "metadata": {},
   "outputs": [
    {
     "data": {
      "text/html": [
       "<div>\n",
       "<style scoped>\n",
       "    .dataframe tbody tr th:only-of-type {\n",
       "        vertical-align: middle;\n",
       "    }\n",
       "\n",
       "    .dataframe tbody tr th {\n",
       "        vertical-align: top;\n",
       "    }\n",
       "\n",
       "    .dataframe thead th {\n",
       "        text-align: right;\n",
       "    }\n",
       "</style>\n",
       "<table border=\"1\" class=\"dataframe\">\n",
       "  <thead>\n",
       "    <tr style=\"text-align: right;\">\n",
       "      <th></th>\n",
       "      <th>exam1</th>\n",
       "      <th>exam2</th>\n",
       "      <th>admitted</th>\n",
       "    </tr>\n",
       "  </thead>\n",
       "  <tbody>\n",
       "    <tr>\n",
       "      <th>0</th>\n",
       "      <td>34.623660</td>\n",
       "      <td>78.024693</td>\n",
       "      <td>0</td>\n",
       "    </tr>\n",
       "    <tr>\n",
       "      <th>1</th>\n",
       "      <td>30.286711</td>\n",
       "      <td>43.894998</td>\n",
       "      <td>0</td>\n",
       "    </tr>\n",
       "    <tr>\n",
       "      <th>2</th>\n",
       "      <td>35.847409</td>\n",
       "      <td>72.902198</td>\n",
       "      <td>0</td>\n",
       "    </tr>\n",
       "    <tr>\n",
       "      <th>3</th>\n",
       "      <td>60.182599</td>\n",
       "      <td>86.308552</td>\n",
       "      <td>1</td>\n",
       "    </tr>\n",
       "    <tr>\n",
       "      <th>4</th>\n",
       "      <td>79.032736</td>\n",
       "      <td>75.344376</td>\n",
       "      <td>1</td>\n",
       "    </tr>\n",
       "  </tbody>\n",
       "</table>\n",
       "</div>"
      ],
      "text/plain": [
       "       exam1      exam2  admitted\n",
       "0  34.623660  78.024693         0\n",
       "1  30.286711  43.894998         0\n",
       "2  35.847409  72.902198         0\n",
       "3  60.182599  86.308552         1\n",
       "4  79.032736  75.344376         1"
      ]
     },
     "execution_count": 4,
     "metadata": {},
     "output_type": "execute_result"
    }
   ],
   "source": [
    "#数据读取\n",
    "import  os\n",
    "#绝对路径读取方式\n",
    "#path=\"data\"+os.sep+\"LogiReg_data.txt\"\n",
    "#相对路径\n",
    "path=\"LogiReg_data.txt\"\n",
    "pdData=pd.read_csv(path,header=None,names=[\"exam1\",\"exam2\",\"admitted\"])#header=None,并且自己设置列名\n",
    "pdData.head()"
   ]
  },
  {
   "cell_type": "code",
   "execution_count": 5,
   "metadata": {},
   "outputs": [
    {
     "data": {
      "text/plain": [
       "pandas.core.frame.DataFrame"
      ]
     },
     "execution_count": 5,
     "metadata": {},
     "output_type": "execute_result"
    }
   ],
   "source": [
    "#一共100条数据\n",
    "pdData.shape\n",
    "type(pdData)"
   ]
  },
  {
   "cell_type": "code",
   "execution_count": 6,
   "metadata": {},
   "outputs": [
    {
     "data": {
      "text/plain": [
       "Text(0, 0.5, 'exam2 score')"
      ]
     },
     "execution_count": 6,
     "metadata": {},
     "output_type": "execute_result"
    },
    {
     "data": {
      "image/png": "[encoded data removed]",
      "text/plain": [
       "<Figure size 720x360 with 1 Axes>"
      ]
     },
     "metadata": {
      "needs_background": "light"
     },
     "output_type": "display_data"
    }
   ],
   "source": [
    "#原始数据录取情况进行可视化展示\n",
    "positive=pdData[pdData[\"admitted\"]==1]#被录取的学生\n",
    "negative=pdData[pdData[\"admitted\"]==0]#未被录取的学生\n",
    "\n",
    "#作图\n",
    "fig,ax=plt.subplots(figsize=(10,5))\n",
    "#画散点图\n",
    "#传入exam的值，s表示点的大小，c颜色,marker是标记图形\n",
    "ax.scatter(positive[\"exam1\"],positive[\"exam2\"],s=50,c=\"b\",marker=\"o\",label=\"Admitted\")#横坐标为exam1值，纵坐标为exam2的值\n",
    "ax.scatter(negative[\"exam1\"],negative[\"exam2\"],s=30,c=\"r\",marker=\"x\",label=\"No Admitted\")\n",
    "ax.legend()\n",
    "ax.set_xlabel(\"exam1 score\")\n",
    "ax.set_ylabel(\"exam2 score\")"
   ]
  },
  {
   "cell_type": "markdown",
   "metadata": {},
   "source": [
    "目标：建立分类器（求解出三个参数  𝜃0𝜃1𝜃2 ）\n",
    "\n",
    "设定阈值，根据阈值判断录取结果\n",
    "\n",
    "要完成的模块\n",
    "sigmoid : 映射到概率的函数\n",
    "\n",
    "model : 返回预测结果值\n",
    "\n",
    "cost : 根据参数计算损失\n",
    "\n",
    "gradient : 计算每个参数的梯度方向\n",
    "\n",
    "descent : 进行参数更新\n",
    "\n",
    "accuracy: 计算精度"
   ]
  },
  {
   "cell_type": "markdown",
   "metadata": {},
   "source": [
    "逻辑回归\n",
    "\n",
    "目标：建立分类器（求解出三个参数θ0,θ1,θ2,），θ0是偏置项，其余两个参数对应两个特征\n",
    "设定阈值，根据阈值判断录取结果\n",
    "\n",
    "要完成的模块：\n",
    "1、sigmoid函数：映射到概率的输出函数\n",
    "2、model：返回预测结果\n",
    "3、cost根据参数计算损失\n",
    "4、计算每个参数的梯度方向\n",
    "5、参数更新\n",
    "6、accuracy:计算精度\n",
    "\n"
   ]
  },
  {
   "cell_type": "markdown",
   "metadata": {},
   "source": [
    "sigmoid函数：\n",
    "g(z)=1/1+e^-z"
   ]
  },
  {
   "cell_type": "code",
   "execution_count": 7,
   "metadata": {},
   "outputs": [],
   "source": [
    "# 1、sigmoid\n",
    "def sigmoid(z):\n",
    "    return 1/(1+np.exp(-z))"
   ]
  },
  {
   "cell_type": "code",
   "execution_count": 8,
   "metadata": {},
   "outputs": [
    {
     "data": {
      "text/plain": [
       "[<matplotlib.lines.Line2D at 0x2547c5f6ef0>]"
      ]
     },
     "execution_count": 8,
     "metadata": {},
     "output_type": "execute_result"
    },
    {
     "data": {
      "image/png": "[encoded data removed]",
      "text/plain": [
       "<Figure size 864x288 with 1 Axes>"
      ]
     },
     "metadata": {
      "needs_background": "light"
     },
     "output_type": "display_data"
    }
   ],
   "source": [
    "#sigmoid图像\n",
    "nums=np.arange(-10,10,step=1)\n",
    "fig,ax=plt.subplots(figsize=(12,4))\n",
    "#连续曲线图\n",
    "ax.plot(nums,sigmoid(nums),c=\"r\")#横纵坐标和颜色\n"
   ]
  },
  {
   "cell_type": "markdown",
   "metadata": {},
   "source": [
    "($\\theta$0  $\\theta$1  $\\theta$2)x\n",
    "$$\\begin{pmatrix}\n",
    "1\\\\\n",
    "x1\\\\\n",
    "x2\\\\\n",
    "\\end{pmatrix}$$\n",
    "=\n",
    "$\\theta$0+$\\theta$0x1+$\\theta$2x2"
   ]
  },
  {
   "cell_type": "code",
   "execution_count": 9,
   "metadata": {},
   "outputs": [],
   "source": [
    "#2、将矩阵乘积放入sigmoid函数当中\n",
    "def model(X,theta):\n",
    "    return sigmoid(np.dot(X,theta.T))"
   ]
  },
  {
   "cell_type": "code",
   "execution_count": 10,
   "metadata": {},
   "outputs": [
    {
     "name": "stderr",
     "output_type": "stream",
     "text": [
      "D:\\python3.6.3\\lib\\site-packages\\ipykernel_launcher.py:4: FutureWarning: Method .as_matrix will be removed in a future version. Use .values instead.\n",
      "  after removing the cwd from sys.path.\n"
     ]
    }
   ],
   "source": [
    "#处理样本\n",
    "pdData.insert(0,\"ones\",1)#因为每一个样本第一个数都是1，对应θ0，用于矩阵乘法,只执行一次即可\n",
    "\n",
    "orig_data=pdData.as_matrix()#将原始样本转化成矩阵形式\n",
    "cols=orig_data.shape[1]\n",
    "#cols#100行，4列的数据样本\n",
    "# orig_data[:5]\n",
    "#抽离出样本中的特征和标记值\n",
    "#第一个：表示去所有样本，第二个：是进行属性分割\n",
    "X=orig_data[:,0:cols-1]#除了最后一列，其余都取出来\n",
    "y=orig_data[:,cols-1:cols]#去最后一列标记值"
   ]
  },
  {
   "cell_type": "code",
   "execution_count": 11,
   "metadata": {},
   "outputs": [
    {
     "data": {
      "text/plain": [
       "array([[ 1.        , 34.62365962, 78.02469282],\n",
       "       [ 1.        , 30.28671077, 43.89499752],\n",
       "       [ 1.        , 35.84740877, 72.90219803],\n",
       "       [ 1.        , 60.18259939, 86.3085521 ],\n",
       "       [ 1.        , 79.03273605, 75.34437644]])"
      ]
     },
     "execution_count": 11,
     "metadata": {},
     "output_type": "execute_result"
    }
   ],
   "source": [
    "#初始化thetaθ变量\n",
    "theta=np.zeros([1,3])\n",
    "X[:5]"
   ]
  },
  {
   "cell_type": "code",
   "execution_count": 12,
   "metadata": {},
   "outputs": [
    {
     "data": {
      "text/plain": [
       "((100, 3), (100, 1), (1, 3))"
      ]
     },
     "execution_count": 12,
     "metadata": {},
     "output_type": "execute_result"
    }
   ],
   "source": [
    "X.shape,y.shape, theta.shape"
   ]
  },
  {
   "cell_type": "markdown",
   "metadata": {},
   "source": [
    "$\\mathbb {损失函数}$\n",
    "$\\mathbb {对数似然函数去负号，求损失函数}$\n",
    "\n",
    "D(h$\\theta$(x),y)=\n",
    "    -ylog(h$\\theta$(x))-(1-y)log(1-h$\\theta$(x)) \n",
    "\n",
    "$\\mathbb {平均损失}$\n",
    "\n",
    "J($\\theta$)=$\\frac{1}{n}$ $\\sum_{i=1}^n $ D(h$\\theta$(xi),yi)"
   ]
  },
  {
   "cell_type": "code",
   "execution_count": 30,
   "metadata": {},
   "outputs": [],
   "source": [
    "#损失函数\n",
    "#先计算D()中的-ylog(hθ(x))\n",
    "#在计算-(1-y)log(1-hθ(x))\n",
    "#再代入J(θ)这个公式当中\n",
    "def cost(X,y,theta):\n",
    "    left=np.multiply(-y,np.log(model(X,theta)))#注意这个地方,np.log默认为以e为底数，而数学上log()默认10为底数\n",
    "    right=np.multiply(1-y,np.log(1-model(X,theta)))\n",
    "    Jtheta=np.sum(left-right)/len(X)\n",
    "#     sig=1/(1+np.exp(np.dot(X,theta.T)))\n",
    "#     print(\"sigmoid(-z):\",sig,\"np.log()\",np.log(sig),\"left\",-y*np.log(sig))\n",
    "    return Jtheta"
   ]
  },
  {
   "cell_type": "code",
   "execution_count": 31,
   "metadata": {},
   "outputs": [
    {
     "data": {
      "text/plain": [
       "0.6931471805599453"
      ]
     },
     "execution_count": 31,
     "metadata": {},
     "output_type": "execute_result"
    }
   ],
   "source": [
    "# print(\"theta\",theta)\n",
    "# Jtheta=cost(X,y,theta)\n",
    "# print(\"Jtheta\",Jtheta)\n",
    "cost(X,y,theta)#一开始损失比较大，需要不断优化(同时因为有sigmoid函数和np.log()函数，所以一开始θ=[0,0,0]时，损失函数也不会为0)"
   ]
  },
  {
   "cell_type": "markdown",
   "metadata": {},
   "source": [
    "$\\mathtt {计算梯度}$"
   ]
  },
  {
   "cell_type": "markdown",
   "metadata": {},
   "source": [
    "$\\frac{\\partial J}{\\partial \\theta j} $=\n",
    "-$\\frac{1}{m} $ $\\sum_{i=1}^n$ (yi-h$\\theta$(xi))$x_i^j$"
   ]
  },
  {
   "cell_type": "code",
   "execution_count": 13,
   "metadata": {},
   "outputs": [
    {
     "data": {
      "text/plain": [
       "array([[0., 0., 0.]])"
      ]
     },
     "execution_count": 13,
     "metadata": {},
     "output_type": "execute_result"
    }
   ],
   "source": [
    "theta\n",
    "# len(theta.shape)"
   ]
  },
  {
   "cell_type": "code",
   "execution_count": 14,
   "metadata": {},
   "outputs": [],
   "source": [
    "#根据上面的公式计算梯度,就是对比着上面的梯度计算公式写代码\n",
    "def gradient(X,y,theta):\n",
    "    grad=np.zeros(theta.shape)#有几个θ就该有几个梯度，因为需要分别优化\n",
    "    error=(model(X,theta)-y).ravel()#计算-(yi-hθ(xi)),即误差\n",
    "    #对每一个theta求偏导\n",
    "    for j in range(len(theta.ravel())):\n",
    "        #计算-(yi-hθ(xi))与xij的乘积\n",
    "        term=np.multiply(error,X[:,j])#X[:,j]第一个：表示取所有样本,j表示取第j列，因为对第j个特征求θ参数\n",
    "        #计算梯度\n",
    "        grad[0,j]=np.sum(term)/len(X)#梯度是一个[[θ0，θ1，θ2]]这样的一行三列结构，故用grad[0,j]表示\n",
    "    return grad#这个地方第一次写错了，将return放在了for循环里面，导致theta1和theta2的梯度一直为0，影响后续结果\n",
    "\n",
    "\n",
    "    "
   ]
  },
  {
   "cell_type": "code",
   "execution_count": 15,
   "metadata": {},
   "outputs": [
    {
     "data": {
      "text/plain": [
       "array([[ -0.1       , -12.00921659, -11.26284221]])"
      ]
     },
     "execution_count": 15,
     "metadata": {},
     "output_type": "execute_result"
    }
   ],
   "source": [
    "g=gradient(X,y,theta)\n",
    "g"
   ]
  },
  {
   "cell_type": "markdown",
   "metadata": {},
   "source": [
    "$$\\mathtt{三种梯度下降方法的比较}$$"
   ]
  },
  {
   "cell_type": "markdown",
   "metadata": {},
   "source": [
    "$\\mathtt{一、批量梯度下降(会使用所有的样本，容易得到最优解，但速度较慢)}$"
   ]
  },
  {
   "cell_type": "markdown",
   "metadata": {},
   "source": [
    "$\\mathtt{二、随机梯度下降(每次只找一个样本，迭代速度快，但不容易收敛)}$"
   ]
  },
  {
   "cell_type": "markdown",
   "metadata": {},
   "source": [
    "$\\mathtt{三、小批量梯度下降(每次选择一部分数据，较为实用)}$"
   ]
  },
  {
   "cell_type": "code",
   "execution_count": 16,
   "metadata": {},
   "outputs": [],
   "source": [
    "STOP_ITER=0#按照迭代次数选择停止.指定迭代次数阈值，超过次数就停止\n",
    "STOP_COST=1#按照损失函数，指定损失函数阈值，作为指标\n",
    "STOP_GRAD=2#按照梯度，指定梯度的阈值，作为停止的指标\n",
    "\n",
    "def stopCriterion(type,value,threshold):\n",
    "    if type==\"STOP_ITER\":     return value>threshold\n",
    "    elif type==\"STOP_COST\":    return abs(value[-1]-value[-2])<threshold\n",
    "    elif type==\"STOP_GRAD\":    return np.linalg.norm(value)<threshold#范数"
   ]
  },
  {
   "cell_type": "code",
   "execution_count": 17,
   "metadata": {},
   "outputs": [],
   "source": [
    "#数据洗牌，打乱顺序\n",
    "import random\n",
    "def shuffleData(data):\n",
    "    np.random.shuffle(data)\n",
    "    #data.shape()返回(a,b)元组结构，分别表示样本数目和列数\n",
    "    cols=data.shape[1]#样本列的数目\n",
    "    X=data[:,0:cols-1]#取出所有的特征列样本,注意不要写成data[:,cols-1]，这样只能取一列，有过一次错误了\n",
    "    y=data[:,cols-1:cols]#取出标记列样本\n",
    "    return X,y\n"
   ]
  },
  {
   "cell_type": "code",
   "execution_count": 18,
   "metadata": {},
   "outputs": [],
   "source": [
    "#梯度下降的代码实现\n",
    "import time\n",
    "def descent(data,theta,batchSize,stopType,thresh,alpha):\n",
    "    print(\"进入descent函数\")\n",
    "    init_time=time.time()\n",
    "    i=0#迭代次数\n",
    "    k=0#batch\n",
    "    X,y=shuffleData(data)#数据洗牌\n",
    "    grad=np.zeros(theta.shape)#梯度初始化\n",
    "    costs=[cost(X,y,theta)]#损失值\n",
    "    value=0\n",
    "    while True:\n",
    "#         print(\"第%s次迭代\" %(i))\n",
    "        grad=gradient(X[k:k+batchSize],y[k:k+batchSize],theta)\n",
    "        k+=batchSize\n",
    "        if k>=n:\n",
    "            k=0\n",
    "            X,y=shuffleData(data)#重新洗牌\n",
    "        theta=theta-alpha*grad#参数更新\n",
    "        costs.append(cost(X,y,theta))#不断更新损失值\n",
    "        i+=1#一次迭代完成\n",
    "#         print(grad)\n",
    "        \n",
    "        if stopType==\"STOP_ITER\":      value=i\n",
    "        elif stopType==\"STOP_COST\":    value=costs\n",
    "        elif stopType==\"STOP_GRAD\":    value=grad\n",
    "        if  stopCriterion(stopType,value,thresh):break\n",
    "    return theta,i-1,costs,grad\n",
    "    #,i-1,costs,grad,time.time()-init_time()\n",
    "    "
   ]
  },
  {
   "cell_type": "code",
   "execution_count": 19,
   "metadata": {},
   "outputs": [],
   "source": [
    "def runExpe(data, theta, batchSize, stopType, thresh, alpha):\n",
    "    print(\"进入runExpe函数\")\n",
    "    #import pdb; pdb.set_trace();\n",
    "    theta, iter, costs, grad = descent(data, theta, batchSize, stopType, thresh, alpha)#, dur\n",
    "    name = \"Original\" if (data[:,1]>2).sum() > 1 else \"Scaled\"\n",
    "    name += \" data - learning rate: {} - \".format(alpha)\n",
    "    if batchSize==n: strDescType = \"Gradient\"\n",
    "    elif batchSize==1:  strDescType = \"Stochastic\"\n",
    "    else: strDescType = \"Mini-batch ({})\".format(batchSize)\n",
    "    name += strDescType + \" descent - Stop: \"\n",
    "    if stopType == STOP_ITER: strStop = \"{} iterations\".format(thresh)\n",
    "    elif stopType == STOP_COST: strStop = \"costs change < {}\".format(thresh)\n",
    "    else: strStop = \"gradient norm < {}\".format(thresh)\n",
    "    name += strStop\n",
    "    print (\"***{}\\nTheta: {} - Iter: {} - Last cost: {:03.2f} \".format(\n",
    "        name, theta, iter, costs[-1]))\n",
    "    fig, ax = plt.subplots(figsize=(12,4))\n",
    "    ax.plot(np.arange(len(costs)), costs, 'r')\n",
    "    ax.set_xlabel('Iterations')\n",
    "    ax.set_ylabel('Cost')\n",
    "    ax.set_title(name.upper() + ' - Error vs. Iteration')\n",
    "    return theta"
   ]
  },
  {
   "cell_type": "markdown",
   "metadata": {},
   "source": [
    "$\\mathtt {不同的停止策略}$"
   ]
  },
  {
   "cell_type": "markdown",
   "metadata": {},
   "source": [
    "$\\mathtt {设定不同的迭代次数}$"
   ]
  },
  {
   "cell_type": "code",
   "execution_count": 20,
   "metadata": {},
   "outputs": [],
   "source": [
    "#选择基于所有样本的梯度下降方法\n",
    "n=100\n",
    "# runExpe(orig_data, theta, n, \"STOP_ITER\", thresh=50000, alpha=0.000001)\n"
   ]
  },
  {
   "cell_type": "markdown",
   "metadata": {},
   "source": [
    "$\\mathtt {根据损失值停止}$"
   ]
  },
  {
   "cell_type": "code",
   "execution_count": 21,
   "metadata": {},
   "outputs": [],
   "source": [
    "# runExpe(orig_data, theta, n, \"STOP_COST\", thresh=0.000001, alpha=0.001)"
   ]
  },
  {
   "cell_type": "markdown",
   "metadata": {},
   "source": [
    "$\\mathtt {根据梯度变化停止}$"
   ]
  },
  {
   "cell_type": "code",
   "execution_count": 22,
   "metadata": {},
   "outputs": [],
   "source": [
    "# runExpe(orig_data,theta,n,\"STOP_GRAD\",thresh=0.05,alpha=0.001)\n",
    "#注意alpha=0.001，第一次设置为了0.01导致梯度爆炸了，没有收敛，所以学习率还是小一点好"
   ]
  },
  {
   "cell_type": "markdown",
   "metadata": {},
   "source": [
    "$\\mathtt {对比三种批量的梯度下降方法}$"
   ]
  },
  {
   "cell_type": "markdown",
   "metadata": {},
   "source": [
    "$\\mathtt {一次只选取一个样本}$"
   ]
  },
  {
   "cell_type": "code",
   "execution_count": 23,
   "metadata": {},
   "outputs": [],
   "source": [
    "# runExpe(orig_data,theta,1,\"STOP_ITER\",thresh=5000,alpha=0.001)"
   ]
  },
  {
   "cell_type": "markdown",
   "metadata": {},
   "source": [
    "$\\mathtt {迭代不稳定   不会收敛}$"
   ]
  },
  {
   "cell_type": "code",
   "execution_count": 24,
   "metadata": {},
   "outputs": [
    {
     "name": "stdout",
     "output_type": "stream",
     "text": [
      "进入runExpe函数\n",
      "进入descent函数\n",
      "***Original data - learning rate: 2e-06 - Stochastic descent - Stop: gradient norm < 15000\n",
      "Theta: [[-0.00202187  0.0099863   0.00092249]] - Iter: 15000 - Last cost: 0.63 \n"
     ]
    },
    {
     "data": {
      "text/plain": [
       "array([[-0.00202187,  0.0099863 ,  0.00092249]])"
      ]
     },
     "execution_count": 24,
     "metadata": {},
     "output_type": "execute_result"
    },
    {
     "data": {
      "image/png": "[encoded data removed]",
      "text/plain": [
       "<Figure size 864x288 with 1 Axes>"
      ]
     },
     "metadata": {
      "needs_background": "light"
     },
     "output_type": "display_data"
    }
   ],
   "source": [
    "runExpe(orig_data,theta,1,\"STOP_ITER\",thresh=15000,alpha=0.000002)"
   ]
  },
  {
   "cell_type": "markdown",
   "metadata": {},
   "source": [
    "增加迭代次数  并且减小了学习率，开始稳定一些了，并趋于收敛但瘦脸效果还是不好\n"
   ]
  },
  {
   "cell_type": "markdown",
   "metadata": {},
   "source": [
    "$\\mathtt {基于mini-batch的梯度下降}$"
   ]
  },
  {
   "cell_type": "markdown",
   "metadata": {},
   "source": [
    "$\\mathtt {每次会抽取一部分样本进行训练，时间消耗不大并且损失函数也会收敛效果更好}$"
   ]
  },
  {
   "cell_type": "code",
   "execution_count": 25,
   "metadata": {},
   "outputs": [
    {
     "name": "stdout",
     "output_type": "stream",
     "text": [
      "进入runExpe函数\n",
      "进入descent函数\n",
      "***Original data - learning rate: 0.001 - Mini-batch (16) descent - Stop: gradient norm < 15000\n",
      "Theta: [[-1.03186465  0.03557148  0.01575006]] - Iter: 15000 - Last cost: 0.79 \n"
     ]
    },
    {
     "data": {
      "text/plain": [
       "array([[-1.03186465,  0.03557148,  0.01575006]])"
      ]
     },
     "execution_count": 25,
     "metadata": {},
     "output_type": "execute_result"
    },
    {
     "data": {
      "image/png": "[encoded data removed]",
      "text/plain": [
       "<Figure size 864x288 with 1 Axes>"
      ]
     },
     "metadata": {
      "needs_background": "light"
     },
     "output_type": "display_data"
    }
   ],
   "source": [
    "runExpe(orig_data,theta,16,\"STOP_ITER\",thresh=15000,alpha=0.001)"
   ]
  },
  {
   "cell_type": "markdown",
   "metadata": {},
   "source": [
    "数据浮动仍然较大，我们来尝试一下对数据进行标准化处理。将数据按照其属性(按列进行)减去其均值，然后除以其方差。最后得到的结果是，\n",
    "对每个属性(每列)来说所有的数据都聚集在0附近，方差值为1"
   ]
  },
  {
   "cell_type": "code",
   "execution_count": 26,
   "metadata": {},
   "outputs": [
    {
     "name": "stdout",
     "output_type": "stream",
     "text": [
      "进入runExpe函数\n",
      "进入descent函数\n",
      "***Scaled data - learning rate: 0.001 - Gradient descent - Stop: gradient norm < 5000\n",
      "Theta: [[0.3080807  0.86494967 0.77367651]] - Iter: 5000 - Last cost: 0.38 \n"
     ]
    },
    {
     "data": {
      "text/plain": [
       "array([[0.3080807 , 0.86494967, 0.77367651]])"
      ]
     },
     "execution_count": 26,
     "metadata": {},
     "output_type": "execute_result"
    },
    {
     "data": {
      "image/png": "[encoded data removed]",
      "text/plain": [
       "<Figure size 864x288 with 1 Axes>"
      ]
     },
     "metadata": {
      "needs_background": "light"
     },
     "output_type": "display_data"
    }
   ],
   "source": [
    "#数据处理\n",
    "from sklearn import preprocessing as pp\n",
    "\n",
    "scaled_data = orig_data.copy()\n",
    "scaled_data[:, 1:3] = pp.scale(orig_data[:, 1:3])#数据标准化处理\n",
    "\n",
    "#再跑一次实验\n",
    "runExpe(scaled_data, theta, n, \"STOP_ITER\", thresh=5000, alpha=0.001)\n"
   ]
  },
  {
   "cell_type": "code",
   "execution_count": 27,
   "metadata": {},
   "outputs": [],
   "source": [
    "可以发现，经过数据的预处理之后，损失值已经讲到0.4了，收敛效果相比较来说好很多了"
   ]
  },
  {
   "cell_type": "code",
   "execution_count": 28,
   "metadata": {},
   "outputs": [
    {
     "name": "stdout",
     "output_type": "stream",
     "text": [
      "进入runExpe函数\n",
      "进入descent函数\n",
      "***Scaled data - learning rate: 0.001 - Mini-batch (16) descent - Stop: gradient norm < 0.002\n",
      "Theta: [[1.23065813 2.97777757 2.73659411]] - Iter: 91062 - Last cost: 0.21 \n"
     ]
    },
    {
     "data": {
      "text/plain": [
       "array([[1.23065813, 2.97777757, 2.73659411]])"
      ]
     },
     "execution_count": 28,
     "metadata": {},
     "output_type": "execute_result"
    },
    {
     "data": {
      "image/png": "[encoded data removed]",
      "text/plain": [
       "<Figure size 864x288 with 1 Axes>"
      ]
     },
     "metadata": {
      "needs_background": "light"
     },
     "output_type": "display_data"
    }
   ],
   "source": [
    "runExpe(scaled_data, theta, 16, \"STOP_GRAD\", thresh=0.002, alpha=0.001)"
   ]
  },
  {
   "cell_type": "markdown",
   "metadata": {},
   "source": [
    "可以看出，经过预处理后的数据，采用mini-batch加梯度下降策略，可以收敛到0.2的效果了\n",
    "数据预处理真是太重要了"
   ]
  },
  {
   "cell_type": "markdown",
   "metadata": {},
   "source": [
    "$\\mathtt {精度}$"
   ]
  },
  {
   "cell_type": "code",
   "execution_count": 34,
   "metadata": {},
   "outputs": [],
   "source": [
    "#设定阈值，并基于sigmoid函数进行分类预测\n",
    "def predict(X,theta):\n",
    "#     print(\"predict\",model(X,theta))\n",
    "    return [ 1 if i>=0.5 else 0 for i in model(X,theta)]"
   ]
  },
  {
   "cell_type": "code",
   "execution_count": 35,
   "metadata": {},
   "outputs": [
    {
     "name": "stdout",
     "output_type": "stream",
     "text": [
      "进入runExpe函数\n",
      "进入descent函数\n",
      "***Scaled data - learning rate: 0.001 - Mini-batch (16) descent - Stop: gradient norm < 0.002\n",
      "Theta: [[1.23416762 2.97731652 2.7362226 ]] - Iter: 2519 - Last cost: 0.21 \n",
      "预测结果\n",
      "[1, 1, 1, 1, 1, 1, 1, 1, 1, 1, 1, 1, 1, 1, 1, 1, 1, 1, 0, 0, 0, 1, 1, 1, 1, 0, 1, 1, 1, 1, 1, 1, 1, 1, 1, 1, 1, 1, 1, 1, 1, 1, 1, 1, 1, 1, 1, 1, 1, 1, 1, 1, 1, 0, 1, 1, 1, 1, 1, 1, 1, 1, 1, 1, 1, 1, 1, 1, 1, 1, 1, 1, 1, 0, 0, 0, 1, 1, 1, 1, 0, 1, 1, 1, 1, 1, 1, 1, 1, 1, 1, 0, 1, 1, 1, 0, 1, 1, 1, 1]\n",
      "精度是0.89%\n"
     ]
    },
    {
     "data": {
      "image/png": "[encoded data removed]",
      "text/plain": [
       "<Figure size 864x288 with 1 Axes>"
      ]
     },
     "metadata": {
      "needs_background": "light"
     },
     "output_type": "display_data"
    }
   ],
   "source": [
    "theta=runExpe(scaled_data, theta, 16, \"STOP_GRAD\", thresh=0.002, alpha=0.001)\n",
    "scaled_x=scaled_data[:,:3]\n",
    "scaled_y=scaled_data[:,3]\n",
    "predictions=predict(scaled_x,theta)\n",
    "correct=[      1  if(p==1 and y==1) or (p==0 and y==0)   else 0  for (p,y) in zip(predictions,scaled_y)]\n",
    "print(\"预测结果\")\n",
    "print(correct)\n",
    "accuracy=sum(map(int ,correct))/len(correct)\n",
    "print(\"精度是{0}%\".format(accuracy))"
   ]
  },
  {
   "cell_type": "code",
   "execution_count": null,
   "metadata": {},
   "outputs": [],
   "source": []
  }
 ],
 "metadata": {
  "kernelspec": {
   "display_name": "Python 3",
   "language": "python",
   "name": "python3"
  },
  "language_info": {
   "codemirror_mode": {
    "name": "ipython",
    "version": 3
   },
   "file_extension": ".py",
   "mimetype": "text/x-python",
   "name": "python",
   "nbconvert_exporter": "python",
   "pygments_lexer": "ipython3",
   "version": "3.6.6"
  }
 },
 "nbformat": 4,
 "nbformat_minor": 2
}
